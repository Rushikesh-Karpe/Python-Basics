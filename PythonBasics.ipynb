{
  "nbformat": 4,
  "nbformat_minor": 0,
  "metadata": {
    "colab": {
      "provenance": []
    },
    "kernelspec": {
      "name": "python3",
      "display_name": "Python 3"
    },
    "language_info": {
      "name": "python"
    }
  },
  "cells": [
    {
      "cell_type": "code",
      "execution_count": null,
      "metadata": {
        "id": "eODtjpPYTLhh"
      },
      "outputs": [],
      "source": []
    },
    {
      "cell_type": "markdown",
      "source": [
        "#Python Basics\n"
      ],
      "metadata": {
        "id": "NXzRb1GFTWah"
      }
    },
    {
      "cell_type": "markdown",
      "source": [
        "1. What is Python, and why is it popular?\n",
        "  - Python is a high-level, interpreted programming language known for its simplicity and readability. It is popular because of its vast libraries, ease of learning, and versatility in applications like web development, data science, AI, and scripting.\n",
        "2. What is an interpreter in Python?\n",
        "    - An interpreter is a program that executes Python code line by line, converting it into machine code that can be executed by the computer.\n",
        "\n",
        "3. What are pre-defined keywords in Python?\n",
        " - Keywords are reserved words in Python that have a special meaning, like if, else, for, while, True, False.\n",
        "\n",
        "4. Can keywords be used as variable names?\n",
        " - No, keywords cannot be used as variable names because they are reserved for specific functionalities.\n",
        "\n",
        "5. What is mutability in Python?                                          \n",
        "  - Mutability refers to the ability of an object to be changed after its creation. For example, lists are mutable, whereas tuples are immutable.\n",
        "\n",
        "6. Why are lists mutable, but tuples are immutable?\n",
        "  -  Lists allow modification like appending or deleting elements, but tuples are designed to be static, making them safer to use in certain scenarios.\n",
        "\n",
        "7. What is the difference between == and is operators in Python?\n",
        "\n",
        "  - == checks for value equality. is checks for object identity (if two objects are the same in memory).\n",
        "8. What are logical operators in Python?\n",
        " - Logical operators include and, or, and not, used to perform logical operations.\n",
        "\n",
        "9. What is type casting in Python?\n",
        " - Type casting converts one data type to another, such as string to integer.\n",
        "\n",
        "10. What is the difference between implicit and explicit type casting?\n",
        "  - Implicit: Done automatically by Python (e.g., float to integer).\n",
        "Explicit: Requires manual conversion (e.g., int('123')).\n",
        "11. What is the purpose of conditional statements in Python?\n",
        "  - Conditional statements allow decisions in the code, executing different blocks of code based on conditions.\n",
        "\n",
        "12. How does the elif statement work?\n",
        "  - It allows checking multiple conditions after an if statement, executing the first elif block that evaluates to True.\n",
        "\n",
        "13. What is the difference between for and while loops?\n",
        "  - for: Iterates over a sequence.\n",
        "while: Continues until a condition becomes false.\n",
        "14. Describe a scenario where a while loop is more suitable than a for loop.\n",
        "  - When the number of iterations is not predetermined (e.g., waiting for user input)."
      ],
      "metadata": {
        "id": "qOJFyg4ETv0X"
      }
    }
  ]
}